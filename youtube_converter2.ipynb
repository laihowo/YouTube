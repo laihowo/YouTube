{
 "cells": [
  {
   "cell_type": "code",
   "execution_count": 3,
   "metadata": {},
   "outputs": [],
   "source": [
    "import os, sys, ssl\n",
    "\n",
    "# Install pytube if running in Google Colab\n",
    "colab_flag = 'google.colab' in sys.modules\n",
    "if colab_flag:\n",
    "    !pip install pytube\n",
    "else:\n",
    "    ssl._create_default_https_context = ssl._create_unverified_context\n"
   ]
  },
  {
   "cell_type": "code",
   "execution_count": 4,
   "metadata": {},
   "outputs": [
    {
     "name": "stdout",
     "output_type": "stream",
     "text": [
      "regex_search: could not find match for (?:v=|\\/)([0-9A-Za-z_-]{11}).* \n",
      "\n",
      "regex_search: could not find match for (?:v=|\\/)([0-9A-Za-z_-]{11}).* \n",
      "\n"
     ]
    }
   ],
   "source": [
    "'''Download YouTube videos as MP4 or MP3 files.'''\n",
    "from pytube import YouTube\n",
    "\n",
    "video_URL = ''\n",
    "while video_URL.lower() != 'exit':\n",
    "    try:\n",
    "        video_URL = input('Enter your YouTube Video URL or \"exit\" to stop: ')\n",
    "        video_object = YouTube(video_URL)\n",
    "\n",
    "        if colab_flag:\n",
    "            !pytube $video_URL\n",
    "        else:\n",
    "            os.system(f'pytube {video_URL}')\n",
    "\n",
    "        break\n",
    "    except Exception as e:\n",
    "        print(f'{e} \\n')\n"
   ]
  }
 ],
 "metadata": {
  "kernelspec": {
   "display_name": "Python 3",
   "language": "python",
   "name": "python3"
  },
  "language_info": {
   "codemirror_mode": {
    "name": "ipython",
    "version": 3
   },
   "file_extension": ".py",
   "mimetype": "text/x-python",
   "name": "python",
   "nbconvert_exporter": "python",
   "pygments_lexer": "ipython3",
   "version": "3.11.0"
  }
 },
 "nbformat": 4,
 "nbformat_minor": 2
}
