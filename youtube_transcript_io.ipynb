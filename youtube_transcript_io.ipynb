{
 "cells": [
  {
   "cell_type": "markdown",
   "metadata": {},
   "source": [
    "<a target=\"_blank\" href=\"https://colab.research.google.com/github/laihowo/YouTube/blob/main/youtube_transcript_io.ipynb\">\n",
    "  <img src=\"https://colab.research.google.com/assets/colab-badge.svg\" alt=\"Open In Colab\"/>\n",
    "</a>\n"
   ]
  },
  {
   "cell_type": "code",
   "execution_count": 5,
   "metadata": {},
   "outputs": [],
   "source": [
    "import sys, os, ssl\n",
    "\n",
    "# Install pytube if running in Google Colab\n",
    "colab_flag = 'google.colab' in sys.modules\n",
    "youtube_path = '/content/YouTube'\n",
    "\n",
    "if colab_flag and not os.path.exists(youtube_path):\n",
    "    !git clone https://github.com/laihowo/YouTube.git\n",
    "    %cd $youtube_path\n",
    "    %pip install -r requirements.txt\n",
    "else:\n",
    "    ssl._create_default_https_context = ssl._create_unverified_context\n"
   ]
  },
  {
   "cell_type": "code",
   "execution_count": 6,
   "metadata": {},
   "outputs": [
    {
     "name": "stdout",
     "output_type": "stream",
     "text": [
      "Transcript saved to: YouTube_Transcript/youtube_transcript_為什麼現代人越來越難.txt\n"
     ]
    }
   ],
   "source": [
    "'''This program will download the transcript of a YouTube video \n",
    "and save it to a text file.'''\n",
    "\n",
    "from pytube import YouTube\n",
    "from youtube_transcript_api import YouTubeTranscriptApi\n",
    "from youtube_transcript_api.formatters import TextFormatter\n",
    "\n",
    "from deep_translator import GoogleTranslator\n",
    "translator = GoogleTranslator(source='auto')\n",
    "\n",
    "while True:\n",
    "    try:\n",
    "        video_URL = input('Enter your YouTube Video URL or \"exit\" to stop: ')\n",
    "        if video_URL.lower() == 'exit':\n",
    "            sys.exit()\n",
    "\n",
    "        video_object = YouTube(video_URL)\n",
    "        video_id = video_object.video_id\n",
    "        video_title = video_object.title\n",
    "\n",
    "        transcript_list = YouTubeTranscriptApi.list_transcripts(video_id)\n",
    "        for transcript in transcript_list:\n",
    "            language_code = transcript.language_code\n",
    "            if 'zh' in language_code:\n",
    "                language_code = 'zh-TW'\n",
    "            translator.target = language_code\n",
    "\n",
    "            raw_transcript = transcript.fetch()\n",
    "            break\n",
    "\n",
    "        break\n",
    "    except Exception as e:\n",
    "        print(f'{e} \\n')\n",
    "\n",
    "text_formatted = TextFormatter().format_transcript(raw_transcript)\n",
    "transcript_path = f'YouTube_Transcript/youtube_transcript_{video_title[:10]}.txt'\n",
    "prompt_path = 'YouTube_Prompt/youtube_summary.txt'\n",
    "\n",
    "with open(transcript_path, 'w', encoding='utf-8') as transcript_file:\n",
    "    with open(prompt_path, 'r', encoding='utf-8') as prompt_file:\n",
    "        transcript_file.write(\n",
    "            translator.translate(prompt_file.read()) + '\\n\\n'\n",
    "        )\n",
    "        transcript_file.write(video_title + '\\n\\n')\n",
    "        transcript_file.write(text_formatted)\n",
    "\n",
    "print(f'Transcript saved to: {transcript_path}')\n"
   ]
  }
 ],
 "metadata": {
  "kernelspec": {
   "display_name": "Python 3",
   "language": "python",
   "name": "python3"
  },
  "language_info": {
   "codemirror_mode": {
    "name": "ipython",
    "version": 3
   },
   "file_extension": ".py",
   "mimetype": "text/x-python",
   "name": "python",
   "nbconvert_exporter": "python",
   "pygments_lexer": "ipython3",
   "version": "3.11.6"
  }
 },
 "nbformat": 4,
 "nbformat_minor": 2
}
