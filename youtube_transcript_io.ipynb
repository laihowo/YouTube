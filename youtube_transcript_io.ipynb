{
 "cells": [
  {
   "cell_type": "code",
   "execution_count": 7,
   "metadata": {},
   "outputs": [],
   "source": [
    "import sys, ssl\n",
    "\n",
    "# Install pytube if running in Google Colab\n",
    "colab_flag = 'google.colab' in sys.modules\n",
    "if colab_flag:\n",
    "    #!gdown\n",
    "    !pip install -r requirements.txt\n",
    "else:\n",
    "    ssl._create_default_https_context = ssl._create_unverified_context\n"
   ]
  },
  {
   "cell_type": "code",
   "execution_count": 8,
   "metadata": {},
   "outputs": [
    {
     "ename": "SystemExit",
     "evalue": "",
     "output_type": "error",
     "traceback": [
      "An exception has occurred, use %tb to see the full traceback.\n",
      "\u001b[0;31mSystemExit\u001b[0m\n"
     ]
    },
    {
     "name": "stderr",
     "output_type": "stream",
     "text": [
      "/Users/laihowo/Library/Python/3.11/lib/python/site-packages/IPython/core/interactiveshell.py:3561: UserWarning: To exit: use 'exit', 'quit', or Ctrl-D.\n",
      "  warn(\"To exit: use 'exit', 'quit', or Ctrl-D.\", stacklevel=1)\n"
     ]
    }
   ],
   "source": [
    "'''This program will download the transcript of a YouTube video \n",
    "and save it to a text file.'''\n",
    "\n",
    "from pytube import YouTube\n",
    "from youtube_transcript_api import YouTubeTranscriptApi\n",
    "from youtube_transcript_api.formatters import TextFormatter\n",
    "\n",
    "while True:\n",
    "    try:\n",
    "        video_URL = input('Enter your YouTube Video URL or \"exit\" to stop: ')\n",
    "        if video_URL.lower() == 'exit':\n",
    "            sys.exit()\n",
    "\n",
    "        video_object = YouTube(video_URL)\n",
    "        video_id = video_object.video_id\n",
    "        video_title = video_object.title\n",
    "        transcript = YouTubeTranscriptApi.get_transcript(video_id, \\\n",
    "            languages=['en', 'zh', 'zh-Hans', 'zh-Hant', 'zh-HK'])\n",
    "        break\n",
    "    except Exception as e:\n",
    "        print(f'{e} \\n')\n",
    "\n",
    "text_formatter = TextFormatter()\n",
    "text_formatted = text_formatter.format_transcript(transcript)\n",
    "\n",
    "transcript_path = f'YouTube_Transcript/youtube_transcript_{video_title[:10]}.txt'\n",
    "prompt_path = 'YouTube_Prompt/youtube_summary.txt'\n",
    "with open(transcript_path, 'w', encoding='utf-8') as transcript_file:\n",
    "    with open(prompt_path, 'r', encoding='utf-8') as prompt_file:\n",
    "        transcript_file.write(prompt_file.read())\n",
    "        transcript_file.write(video_title + '\\n\\n')\n",
    "        transcript_file.write(text_formatted)\n",
    "\n",
    "print(f'Transcript saved to: {transcript_path}')\n"
   ]
  }
 ],
 "metadata": {
  "kernelspec": {
   "display_name": "Python 3",
   "language": "python",
   "name": "python3"
  },
  "language_info": {
   "codemirror_mode": {
    "name": "ipython",
    "version": 3
   },
   "file_extension": ".py",
   "mimetype": "text/x-python",
   "name": "python",
   "nbconvert_exporter": "python",
   "pygments_lexer": "ipython3",
   "version": "3.11.0"
  }
 },
 "nbformat": 4,
 "nbformat_minor": 2
}
