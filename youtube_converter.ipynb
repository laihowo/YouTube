{
 "cells": [
  {
   "cell_type": "markdown",
   "metadata": {},
   "source": [
    "<a target=\"_blank\" href=\"https://colab.research.google.com/github/laihowo/YouTube/blob/main/youtube_converter.ipynb\">\n",
    "  <img src=\"https://colab.research.google.com/assets/colab-badge.svg\" alt=\"Open In Colab\"/>\n",
    "</a>\n"
   ]
  },
  {
   "cell_type": "code",
   "execution_count": null,
   "metadata": {},
   "outputs": [],
   "source": [
    "''' Reference: https://github.com/pytube/pytube '''\n",
    "import os, sys, ssl, subprocess, errno\n",
    "\n",
    "# Install pytube if running in Google Colab\n",
    "colab_flag = 'google.colab' in sys.modules\n",
    "if colab_flag:\n",
    "    %pip install pytube\n",
    "    from google.colab import drive\n",
    "    drive_path = '/content/drive/'\n",
    "    drive.mount(drive_path)\n",
    "else:\n",
    "    ssl._create_default_https_context = ssl._create_unverified_context\n",
    "\n",
    "from pytube import YouTube, Playlist\n",
    "from pytube.exceptions import VideoUnavailable\n"
   ]
  },
  {
   "cell_type": "code",
   "execution_count": null,
   "metadata": {},
   "outputs": [],
   "source": [
    "''' Download a YouTube Playlist as MP4 files and zip them. '''\n",
    "\n",
    "playlist_URL = ''\n",
    "playlist_path = '/content/English'\n",
    "\n",
    "if not os.path.exists(playlist_path):\n",
    "    %mkdir $playlist_path\n",
    "%cd $playlist_path\n",
    "\n",
    "#while playlist_URL.lower() != 'exit':\n",
    "    #playlist_URL = input('Enter your YouTube Video Playlist URL or \"exit\" to stop: ')\n",
    "    #break\n",
    "\n",
    "playlist_URL = 'https://www.youtube.com/playlist?list=PL8TKOEL-O2hDx5q0nWMKr_ffnbsH-wsqs'\n",
    "playlist_object = Playlist(playlist_URL)\n",
    "\n",
    "for video_URL in playlist_object.video_urls:\n",
    "    try:\n",
    "        video_object = YouTube(video_URL)\n",
    "        subprocess.run(['pytube', video_URL], check=True)\n",
    "    except VideoUnavailable:\n",
    "        print(f'Video {video_URL} is unavailable, skipping...')\n",
    "    except subprocess.CalledProcessError:\n",
    "        print(f'File Name for Video {video_URL} is too long, shortening...')\n",
    "        video_object.streams.first().download(\n",
    "            output_path=playlist_path,\n",
    "            filename=video_object.title[:50]\n",
    "        )\n",
    "\n",
    "zip_name = 'English.zip'\n",
    "drive_path += 'MyDrive/'\n",
    "!zip -r $zip_name $playlist_path\n",
    "%mv $zip_name \n"
   ]
  },
  {
   "cell_type": "code",
   "execution_count": null,
   "metadata": {},
   "outputs": [],
   "source": [
    "''' Download a YouTube Video as MP4 file. '''\n",
    "'''\n",
    "video_URL = ''\n",
    "while video_URL.lower() != 'exit':\n",
    "    try:\n",
    "        video_URL = input('Enter your YouTube Video URL or \"exit\" to stop: ')\n",
    "        video_object = YouTube(video_URL)\n",
    "        !pytube $video_URL\n",
    "\n",
    "        break\n",
    "    except Exception as e:\n",
    "        print(f'{e} \\n')\n",
    "'''"
   ]
  }
 ],
 "metadata": {
  "kernelspec": {
   "display_name": "Python 3",
   "language": "python",
   "name": "python3"
  },
  "language_info": {
   "codemirror_mode": {
    "name": "ipython",
    "version": 3
   },
   "file_extension": ".py",
   "mimetype": "text/x-python",
   "name": "python",
   "nbconvert_exporter": "python",
   "pygments_lexer": "ipython3",
   "version": "3.11.6"
  }
 },
 "nbformat": 4,
 "nbformat_minor": 2
}
