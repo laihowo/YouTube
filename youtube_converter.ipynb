{
 "cells": [
  {
   "cell_type": "markdown",
   "metadata": {},
   "source": [
    "<a target=\"_blank\" href=\"https://colab.research.google.com/github/laihowo/YouTube/blob/main/youtube_converter.ipynb\">\n",
    "  <img src=\"https://colab.research.google.com/assets/colab-badge.svg\" alt=\"Open In Colab\"/>\n",
    "</a>\n"
   ]
  },
  {
   "cell_type": "code",
   "execution_count": null,
   "metadata": {},
   "outputs": [],
   "source": [
    "''' Reference: https://github.com/pytube/pytube '''\n",
    "import os, sys, ssl\n",
    "\n",
    "# Install pytube if running in Google Colab\n",
    "colab_flag = 'google.colab' in sys.modules\n",
    "if colab_flag:\n",
    "    %pip install pytube\n",
    "else:\n",
    "    ssl._create_default_https_context = ssl._create_unverified_context\n",
    "\n",
    "from pytube import YouTube, Playlist\n",
    "from pytube.exceptions import VideoUnavailable\n"
   ]
  },
  {
   "cell_type": "code",
   "execution_count": null,
   "metadata": {},
   "outputs": [],
   "source": [
    "''' Download a YouTube video playlist as MP4 files and zip them. '''\n",
    "\n",
    "playlist_URL = ''\n",
    "playlist_path = '/content/English'\n",
    "if not os.path.exists(playlist_path):\n",
    "    !mkdir $playlist_path\n",
    "!cd $playlist_path\n",
    "\n",
    "while playlist_URL.lower() != 'exit':\n",
    "    #playlist_URL = input('Enter your YouTube Video Playlist URL or \"exit\" to stop: ')\n",
    "    playlist_URL = 'https://www.youtube.com/playlist?list=PL8TKOEL-O2hDx5q0nWMKr_ffnbsH-wsqs'\n",
    "    playlist_object = Playlist(playlist_URL)\n",
    "\n",
    "    for video_URL in playlist_object.video_urls:\n",
    "        try:\n",
    "            video_object = YouTube(video_URL)\n",
    "        except VideoUnavailable:\n",
    "            print(f'Video {video_URL} is unavailable, skipping.')\n",
    "        else:\n",
    "            !pytube $video_URL\n",
    "            !zip -r 'English.zip' $playlist_path\n",
    "            break\n"
   ]
  },
  {
   "cell_type": "code",
   "execution_count": null,
   "metadata": {},
   "outputs": [],
   "source": [
    "''' Download a YouTube video as MP4 file. '''\n",
    "'''\n",
    "video_URL = ''\n",
    "while video_URL.lower() != 'exit':\n",
    "    try:\n",
    "        video_URL = input('Enter your YouTube Video URL or \"exit\" to stop: ')\n",
    "        video_object = YouTube(video_URL)\n",
    "        !pytube $video_URL\n",
    "\n",
    "        break\n",
    "    except Exception as e:\n",
    "        print(f'{e} \\n')\n",
    "'''"
   ]
  }
 ],
 "metadata": {
  "kernelspec": {
   "display_name": "Python 3",
   "language": "python",
   "name": "python3"
  },
  "language_info": {
   "codemirror_mode": {
    "name": "ipython",
    "version": 3
   },
   "file_extension": ".py",
   "mimetype": "text/x-python",
   "name": "python",
   "nbconvert_exporter": "python",
   "pygments_lexer": "ipython3",
   "version": "3.11.6"
  }
 },
 "nbformat": 4,
 "nbformat_minor": 2
}
