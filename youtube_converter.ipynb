{
 "cells": [
  {
   "cell_type": "markdown",
   "metadata": {},
   "source": [
    "<a target=\"_blank\" href=\"https://colab.research.google.com/github/laihowo/YouTube/blob/main/youtube_converter2.ipynb\">\n",
    "  <img src=\"https://colab.research.google.com/assets/colab-badge.svg\" alt=\"Open In Colab\"/>\n",
    "</a>"
   ]
  },
  {
   "cell_type": "code",
   "execution_count": 5,
   "metadata": {},
   "outputs": [],
   "source": [
    "import os, sys, ssl\n",
    "\n",
    "# Install pytube if running in Google Colab\n",
    "colab_flag = 'google.colab' in sys.modules\n",
    "if colab_flag:\n",
    "    !pip install pytube\n",
    "else:\n",
    "    ssl._create_default_https_context = ssl._create_unverified_context\n"
   ]
  },
  {
   "cell_type": "code",
   "execution_count": 6,
   "metadata": {},
   "outputs": [
    {
     "name": "stdout",
     "output_type": "stream",
     "text": [
      "Loading video...\n",
      "忍夠 九巴app！IT人創 冇廣告巴士資訊 App〡 巴士 小巴 地鐵 輕鐵 一app睇晒〡hkbusapp 創辦人 為阿媽自製實時交通資訊app〡幫人慳10秒 攬下家人都開心〡.mp4 | 37 MB\n",
      " ↳ |█████████████████████                       | 47.6%\r"
     ]
    }
   ],
   "source": [
    "'''Download YouTube videos as MP4 or MP3 files.'''\n",
    "from pytube import YouTube\n",
    "\n",
    "video_URL = ''\n",
    "while video_URL.lower() != 'exit':\n",
    "    try:\n",
    "        video_URL = input('Enter your YouTube Video URL or \"exit\" to stop: ')\n",
    "        video_object = YouTube(video_URL)\n",
    "\n",
    "        if colab_flag:\n",
    "            !pytube $video_URL\n",
    "        else:\n",
    "            os.system(f'pytube {video_URL}')\n",
    "\n",
    "        break\n",
    "    except Exception as e:\n",
    "        print(f'{e} \\n')\n"
   ]
  }
 ],
 "metadata": {
  "kernelspec": {
   "display_name": "Python 3",
   "language": "python",
   "name": "python3"
  },
  "language_info": {
   "codemirror_mode": {
    "name": "ipython",
    "version": 3
   },
   "file_extension": ".py",
   "mimetype": "text/x-python",
   "name": "python",
   "nbconvert_exporter": "python",
   "pygments_lexer": "ipython3",
   "version": "3.11.6"
  }
 },
 "nbformat": 4,
 "nbformat_minor": 2
}
